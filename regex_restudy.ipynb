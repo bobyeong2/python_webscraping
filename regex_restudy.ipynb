{
 "cells": [
  {
   "cell_type": "code",
   "execution_count": 1,
   "id": "dried-bunch",
   "metadata": {},
   "outputs": [],
   "source": [
    "import re\n"
   ]
  },
  {
   "cell_type": "code",
   "execution_count": 107,
   "id": "choice-spring",
   "metadata": {},
   "outputs": [],
   "source": [
    "def print_match(m) :\n",
    "    \n",
    "    if m:\n",
    "        print(m.group()) # 일치하는 문자열 반환\n",
    "        print(m.string) # 입력받은 문자열 반환\n",
    "        print(m.start()) # 일치하는 문자열 시작 인덱스\n",
    "        print(m.end()) # 일치하는 문자열 끝 인덱스\n",
    "        print(m.span()) # 일치하는 문자열 시작 & 끝 인덱스\n",
    "    else :\n",
    "        print('매칭되지않음')\n",
    "        "
   ]
  },
  {
   "cell_type": "code",
   "execution_count": 132,
   "id": "vital-survey",
   "metadata": {},
   "outputs": [],
   "source": [
    "pattern = re.compile(\"careless\")\n",
    "# m = pattern.match('careless')\n",
    "# print_match(m)"
   ]
  },
  {
   "cell_type": "code",
   "execution_count": 136,
   "id": "painted-yacht",
   "metadata": {},
   "outputs": [],
   "source": [
    "# m = pattern.search('careless')\n",
    "# print_match(m)"
   ]
  },
  {
   "cell_type": "code",
   "execution_count": 137,
   "id": "colonial-saskatchewan",
   "metadata": {},
   "outputs": [],
   "source": [
    "# m = pattern.findall('care cafe good') # 일치하는 모든것을 리스트 형태로 변환\n",
    "# print(m)\n"
   ]
  },
  {
   "cell_type": "code",
   "execution_count": 138,
   "id": "continuous-recall",
   "metadata": {},
   "outputs": [],
   "source": [
    "# 1. p = re.compile(\"원하는 형태\") \n",
    "# 2. m = p.match(\"비교할 문자열\") : 주어진 문자열의 처음부터 일치하는지 확인.\n",
    "# 3. m = p.search(\"비교할 문자열\") : 주어진 문자열중에 일치하는지 확인\n",
    "# 2. m = p.findall(\"비교할 문자열\") : 일치하는 모든것을 리스트형태로 반환\n",
    "\n",
    "# . -> 하나의 문자\n",
    "# ^ -> ~로 시작하는 ^[de] or ^의 부정 : [^de] \n",
    "# $ -> 문자열의 끝"
   ]
  }
 ],
 "metadata": {
  "kernelspec": {
   "display_name": "data-anal",
   "language": "python",
   "name": "data-anal"
  },
  "language_info": {
   "codemirror_mode": {
    "name": "ipython",
    "version": 3
   },
   "file_extension": ".py",
   "mimetype": "text/x-python",
   "name": "python",
   "nbconvert_exporter": "python",
   "pygments_lexer": "ipython3",
   "version": "3.8.5"
  }
 },
 "nbformat": 4,
 "nbformat_minor": 5
}
