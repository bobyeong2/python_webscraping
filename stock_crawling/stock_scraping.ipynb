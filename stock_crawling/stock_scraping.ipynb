{
 "cells": [
  {
   "cell_type": "code",
   "execution_count": 11,
   "id": "declared-sector",
   "metadata": {},
   "outputs": [],
   "source": [
    "from pandas import Series, DataFrame\n",
    "import pandas as pd\n",
    "import numpy as np\n",
    "import requests\n",
    "from bs4 import BeautifulSoup\n",
    "import re\n",
    "import time\n",
    "import random\n",
    "from selenium import webdriver"
   ]
  },
  {
   "cell_type": "code",
   "execution_count": 2,
   "id": "worthy-boutique",
   "metadata": {},
   "outputs": [],
   "source": [
    "stock_info = pd.read_csv('./data/상장법인.csv')\n",
    "\n",
    "stock_code = stock_info.iloc[:,:2]\n",
    "\n",
    "stock_code['종목코드'] = stock_code['종목코드'].map('{:06d}'.format)\n",
    "\n",
    "stock_df = stock_code[\n",
    "    ['회사명','종목코드']\n",
    "]\n",
    "\n",
    "stock_df = stock_df.rename(columns={'회사명':'name','종목코드':'code'})\n",
    "\n",
    "# a = stock_df.loc[2,'code']\n",
    "# 239890"
   ]
  },
  {
   "cell_type": "code",
   "execution_count": 104,
   "id": "functioning-graduation",
   "metadata": {},
   "outputs": [
    {
     "data": {
      "text/plain": [
       "0       189330\n",
       "1       322310\n",
       "2       239890\n",
       "3       363260\n",
       "4       262840\n",
       "         ...  \n",
       "2417    000120\n",
       "2418    000060\n",
       "2419    000050\n",
       "2420    000700\n",
       "2421    003480\n",
       "Name: code, Length: 2422, dtype: object"
      ]
     },
     "execution_count": 104,
     "metadata": {},
     "output_type": "execute_result"
    }
   ],
   "source": [
    "stock_df['code']"
   ]
  },
  {
   "cell_type": "code",
   "execution_count": 102,
   "id": "juvenile-figure",
   "metadata": {},
   "outputs": [],
   "source": [
    "def get_end_page(code):\n",
    "    \n",
    "    temp_list = []\n",
    "    driver = webdriver.Chrome('D:/chrome_driver/chromedriver.exe')\n",
    "    \n",
    "    for stock_code in code :\n",
    "        \n",
    "        url = f'https://finance.naver.com/item/sise_day.nhn?code={stock_code}&page=1'\n",
    "        driver.get(url)\n",
    "        driver.implicitly_wait(5)\n",
    "        try:\n",
    "            # 더보기 버튼이 있으면\n",
    "            more = driver.find_element_by_css_selector('body > table.Nnavi > tbody > tr > td.pgRR > a')\n",
    "\n",
    "            #클릭 후 해당 url로 이동된 페이지 번호 가져온다.\n",
    "            more.click()\n",
    "            more_page = driver.current_url\n",
    "            # page ~ 로 해당하는 문자열이 일치하면 \\\\로 수정\n",
    "            end_page_get = re.sub('\\\\&page=\\d',repl=r'\\\\',string=more_page)\n",
    "            # \\\\로 스플릿 -> 1번째 인덱스 추출\n",
    "            end_page = end_page_get.split('\\\\')\n",
    "            # 임시 리스트에 저장\n",
    "            temp_list.append(end_page[-1])\n",
    "            print(end_page)\n",
    "            time.sleep(random.uniform(0.05 , 8.85))\n",
    "\n",
    "        except Exception as e :\n",
    "            print(e,'\\n 더보기 버튼 없음.')\n",
    "\n",
    "    driver.close()\n",
    "    \n",
    "    return temp_list"
   ]
  },
  {
   "cell_type": "code",
   "execution_count": 103,
   "id": "deluxe-midwest",
   "metadata": {},
   "outputs": [
    {
     "name": "stdout",
     "output_type": "stream",
     "text": [
      "['https://finance.naver.com/item/sise_day.nhn?code=189330', '77']\n",
      "Message: no such element: Unable to locate element: {\"method\":\"css selector\",\"selector\":\"body > table.Nnavi > tbody > tr > td.pgRR > a\"}\n",
      "  (Session info: chrome=88.0.4324.190)\n",
      " \n",
      "에러 발생\n"
     ]
    },
    {
     "data": {
      "text/plain": [
       "['77']"
      ]
     },
     "execution_count": 103,
     "metadata": {},
     "output_type": "execute_result"
    }
   ],
   "source": [
    "get_end_page(stock_df['code'])"
   ]
  },
  {
   "cell_type": "code",
   "execution_count": 88,
   "id": "expired-batman",
   "metadata": {},
   "outputs": [],
   "source": [
    "def get_sise_data():\n",
    "    # 스크래핑한 데이터를 저장하기위한 list\n",
    "    sise_list = []\n",
    "    \n",
    "    headers = {\"User-Agent\":\"Mozilla/5.0 (Windows NT 10.0; Win64; x64)\\\n",
    "           AppleWebKit/537.36 (KHTML, like Gecko) Chrome/88.0.4324.182 Safari/537.36\"}\n",
    "    \n",
    "    for code, page in  :\n",
    "        # selenium & bs4로 원하는 url 기재\n",
    "        url = f'https://finance.naver.com/item/sise_day.nhn?code={239890}&page={page}'\n",
    "        res = requests.get(url, headers = headers)\n",
    "        \n",
    "        # 해당페이지 파싱\n",
    "        soup = BeautifulSoup(res.text,'lxml')\n",
    "        \n",
    "        for day in range(0,10) :\n",
    "            \n",
    "            # 일자별 주식데이터 ( 페이지당 최대 10개)\n",
    "            sise_data = soup.find_all('tr',attrs={'onmouseover':'mouseOver(this)'})[day].text\n",
    "            \n",
    "            sub_price = re.sub(pattern='\\s+' , repl=':', string=sise_data)\n",
    "            \n",
    "            sise_data_final = sub_price.split(':')\n",
    "            \n",
    "            columns=['by_date','end_price','y_difference_t','first_price',\n",
    "                     'high_price','low_price','volume']\n",
    "            \n",
    "            by_date = sise_data_final[1]\n",
    "            end_price = sise_data_final[2]\n",
    "            y_difference_t = sise_data_final[3]\n",
    "            first_price = sise_data_final[4]\n",
    "            high_price = sise_data_final[5]\n",
    "            low_price = sise_data_final[6]\n",
    "            volume = sise_data_final[7]\n",
    "            \n",
    "            sise_list.extend([[by_date, end_price, y_difference_t,\n",
    "                              first_price, high_price, low_price, volume]])\n",
    "        \n",
    "            # 페이지 당 일별시세 가장 최근 기준 인덱스 // 전날로 내려 갈수록 + 7\n",
    "            sise_df= DataFrame(data=sise_list, columns=columns)\n",
    "            time.sleep(2)\n",
    "    return sise_df"
   ]
  },
  {
   "cell_type": "code",
   "execution_count": 89,
   "id": "blank-export",
   "metadata": {},
   "outputs": [
    {
     "ename": "UnboundLocalError",
     "evalue": "local variable 'page' referenced before assignment",
     "output_type": "error",
     "traceback": [
      "\u001b[1;31m---------------------------------------------------------------------------\u001b[0m",
      "\u001b[1;31mUnboundLocalError\u001b[0m                         Traceback (most recent call last)",
      "\u001b[1;32m<ipython-input-89-b839d2e7cdd7>\u001b[0m in \u001b[0;36m<module>\u001b[1;34m\u001b[0m\n\u001b[1;32m----> 1\u001b[1;33m \u001b[0ma\u001b[0m \u001b[1;33m=\u001b[0m \u001b[0mget_sise_data\u001b[0m\u001b[1;33m(\u001b[0m\u001b[1;33m)\u001b[0m\u001b[1;33m\u001b[0m\u001b[1;33m\u001b[0m\u001b[0m\n\u001b[0m\u001b[0;32m      2\u001b[0m \u001b[1;33m\u001b[0m\u001b[0m\n\u001b[0;32m      3\u001b[0m \u001b[0ma\u001b[0m\u001b[1;33m\u001b[0m\u001b[1;33m\u001b[0m\u001b[0m\n",
      "\u001b[1;32m<ipython-input-88-650fac5683e4>\u001b[0m in \u001b[0;36mget_sise_data\u001b[1;34m()\u001b[0m\n\u001b[0;32m     10\u001b[0m     \u001b[0msise_list\u001b[0m \u001b[1;33m=\u001b[0m \u001b[1;33m[\u001b[0m\u001b[1;33m]\u001b[0m\u001b[1;33m\u001b[0m\u001b[1;33m\u001b[0m\u001b[0m\n\u001b[0;32m     11\u001b[0m \u001b[1;33m\u001b[0m\u001b[0m\n\u001b[1;32m---> 12\u001b[1;33m     \u001b[1;32mfor\u001b[0m \u001b[0mcode\u001b[0m\u001b[1;33m,\u001b[0m \u001b[0mpage\u001b[0m \u001b[1;32min\u001b[0m \u001b[0mzip\u001b[0m\u001b[1;33m(\u001b[0m\u001b[0mstock_df\u001b[0m\u001b[1;33m[\u001b[0m\u001b[1;34m'code'\u001b[0m\u001b[1;33m]\u001b[0m\u001b[1;33m,\u001b[0m \u001b[0mpage\u001b[0m\u001b[1;33m)\u001b[0m \u001b[1;33m:\u001b[0m\u001b[1;33m\u001b[0m\u001b[1;33m\u001b[0m\u001b[0m\n\u001b[0m\u001b[0;32m     13\u001b[0m \u001b[1;33m\u001b[0m\u001b[0m\n\u001b[0;32m     14\u001b[0m         \u001b[1;31m# selenium & bs4로 원하는 url 기재\u001b[0m\u001b[1;33m\u001b[0m\u001b[1;33m\u001b[0m\u001b[1;33m\u001b[0m\u001b[0m\n",
      "\u001b[1;31mUnboundLocalError\u001b[0m: local variable 'page' referenced before assignment"
     ]
    }
   ],
   "source": [
    "a = get_sise_data()\n",
    "\n",
    "a"
   ]
  },
  {
   "cell_type": "code",
   "execution_count": 53,
   "id": "compliant-straight",
   "metadata": {},
   "outputs": [
    {
     "data": {
      "text/plain": [
       "'https://finance.naver.com/item/sise_day.nhn?code=239890&page=112'"
      ]
     },
     "execution_count": 53,
     "metadata": {},
     "output_type": "execute_result"
    }
   ],
   "source": [
    "url = f'https://finance.naver.com/item/sise_day.nhn?code={239890}&page={112}'\n",
    "res = requests.get(url, headers = headers)\n",
    "res.url"
   ]
  },
  {
   "cell_type": "code",
   "execution_count": 54,
   "id": "polish-affect",
   "metadata": {},
   "outputs": [],
   "source": [
    "asdf = res.url"
   ]
  },
  {
   "cell_type": "code",
   "execution_count": 63,
   "id": "executed-cologne",
   "metadata": {},
   "outputs": [],
   "source": [
    "a = re.search('\\d' , string=asdf).group()"
   ]
  },
  {
   "cell_type": "code",
   "execution_count": 64,
   "id": "missing-suffering",
   "metadata": {},
   "outputs": [
    {
     "data": {
      "text/plain": [
       "'2'"
      ]
     },
     "execution_count": 64,
     "metadata": {},
     "output_type": "execute_result"
    }
   ],
   "source": [
    "a"
   ]
  },
  {
   "cell_type": "code",
   "execution_count": 101,
   "id": "comfortable-onion",
   "metadata": {},
   "outputs": [
    {
     "data": {
      "text/plain": [
       "'https://finance.naver.com/item/sise_day.nhn?code=239890&page=112'"
      ]
     },
     "execution_count": 101,
     "metadata": {},
     "output_type": "execute_result"
    }
   ],
   "source": [
    "driver = webdriver.Chrome('D:/chrome_driver/chromedriver.exe')\n",
    "driver.get(url)\n",
    "driver.current_url"
   ]
  },
  {
   "cell_type": "code",
   "execution_count": 83,
   "id": "liberal-brooklyn",
   "metadata": {},
   "outputs": [],
   "source": [
    "rt = qwe.split('\\\\')"
   ]
  },
  {
   "cell_type": "code",
   "execution_count": 82,
   "id": "flush-bread",
   "metadata": {},
   "outputs": [
    {
     "data": {
      "text/plain": [
       "'12'"
      ]
     },
     "execution_count": 82,
     "metadata": {},
     "output_type": "execute_result"
    }
   ],
   "source": [
    "rt[-1]"
   ]
  },
  {
   "cell_type": "code",
   "execution_count": null,
   "id": "constant-auction",
   "metadata": {},
   "outputs": [],
   "source": []
  }
 ],
 "metadata": {
  "kernelspec": {
   "display_name": "data-anal",
   "language": "python",
   "name": "data-anal"
  },
  "language_info": {
   "codemirror_mode": {
    "name": "ipython",
    "version": 3
   },
   "file_extension": ".py",
   "mimetype": "text/x-python",
   "name": "python",
   "nbconvert_exporter": "python",
   "pygments_lexer": "ipython3",
   "version": "3.8.5"
  }
 },
 "nbformat": 4,
 "nbformat_minor": 5
}
