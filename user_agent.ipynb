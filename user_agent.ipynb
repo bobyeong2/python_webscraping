{
 "cells": [
  {
   "cell_type": "code",
   "execution_count": 136,
   "id": "mobile-reconstruction",
   "metadata": {},
   "outputs": [],
   "source": [
    "import requests\n",
    "from bs4 import BeautifulSoup\n",
    "from pandas import Series , DataFrame\n",
    "import pandas as pd \n",
    "headers = {\"User-Agent\":\"Mozilla/5.0 (Windows NT 10.0; Win64; x64) AppleWebKit/537.36 (KHTML, like Gecko) Chrome/88.0.4324.182 Safari/537.36\"}\n"
   ]
  },
  {
   "cell_type": "code",
   "execution_count": 137,
   "id": "afraid-spoke",
   "metadata": {},
   "outputs": [],
   "source": [
    "url = 'http://nadocoding.tistory.com'\n",
    "res = requests.get(url, headers = headers)\n",
    "res.raise_for_status()"
   ]
  },
  {
   "cell_type": "code",
   "execution_count": 139,
   "id": "through-cookie",
   "metadata": {},
   "outputs": [],
   "source": [
    "soup = BeautifulSoup(res.text,'lxml')"
   ]
  },
  {
   "cell_type": "code",
   "execution_count": 141,
   "id": "pediatric-morris",
   "metadata": {},
   "outputs": [
    {
     "data": {
      "text/plain": [
       "<a href=\"#dkBody\">본문 바로가기</a>"
      ]
     },
     "execution_count": 141,
     "metadata": {},
     "output_type": "execute_result"
    }
   ],
   "source": [
    "soup.a"
   ]
  },
  {
   "cell_type": "code",
   "execution_count": 143,
   "id": "faced-block",
   "metadata": {},
   "outputs": [],
   "source": [
    "a_tag = soup.find('a', attrs={'href':'#dkBody'})"
   ]
  },
  {
   "cell_type": "code",
   "execution_count": 144,
   "id": "single-accommodation",
   "metadata": {},
   "outputs": [
    {
     "data": {
      "text/plain": [
       "'본문 바로가기'"
      ]
     },
     "execution_count": 144,
     "metadata": {},
     "output_type": "execute_result"
    }
   ],
   "source": [
    "a_tag.text"
   ]
  },
  {
   "cell_type": "code",
   "execution_count": null,
   "id": "southeast-virginia",
   "metadata": {},
   "outputs": [],
   "source": []
  }
 ],
 "metadata": {
  "kernelspec": {
   "display_name": "data-anal",
   "language": "python",
   "name": "data-anal"
  },
  "language_info": {
   "codemirror_mode": {
    "name": "ipython",
    "version": 3
   },
   "file_extension": ".py",
   "mimetype": "text/x-python",
   "name": "python",
   "nbconvert_exporter": "python",
   "pygments_lexer": "ipython3",
   "version": "3.8.5"
  }
 },
 "nbformat": 4,
 "nbformat_minor": 5
}
