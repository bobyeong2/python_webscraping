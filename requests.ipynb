{
 "cells": [
  {
   "cell_type": "code",
   "execution_count": 2,
   "id": "aggressive-desire",
   "metadata": {},
   "outputs": [],
   "source": [
    "import requests"
   ]
  },
  {
   "cell_type": "code",
   "execution_count": 30,
   "id": "complex-preserve",
   "metadata": {},
   "outputs": [],
   "source": [
    "# res = requests.get('http://nodocoding.tistory.com')\n",
    "res = requests.get('http://google.com')\n",
    "res.raise_for_status()"
   ]
  },
  {
   "cell_type": "code",
   "execution_count": 31,
   "id": "reduced-quantity",
   "metadata": {},
   "outputs": [
    {
     "data": {
      "text/plain": [
       "200"
      ]
     },
     "execution_count": 31,
     "metadata": {},
     "output_type": "execute_result"
    }
   ],
   "source": [
    "res.status_code"
   ]
  },
  {
   "cell_type": "code",
   "execution_count": 32,
   "id": "seventh-quilt",
   "metadata": {},
   "outputs": [],
   "source": [
    "# if res.status_code == requests.codes.ok :\n",
    "    \n",
    "#     print('정상입니다.')\n",
    "\n",
    "# else :\n",
    "    \n",
    "#     print(\"문제발생 ==> 에러코드 : \",res.status_code)"
   ]
  },
  {
   "cell_type": "code",
   "execution_count": 35,
   "id": "typical-plane",
   "metadata": {},
   "outputs": [
    {
     "name": "stdout",
     "output_type": "stream",
     "text": [
      "13949\n"
     ]
    }
   ],
   "source": [
    "print(len(res.text))\n",
    "# print(res.text)"
   ]
  },
  {
   "cell_type": "code",
   "execution_count": 36,
   "id": "detailed-massage",
   "metadata": {},
   "outputs": [],
   "source": [
    "with open('mygoogle.html', 'w', encoding='utf-8') as f:\n",
    "    \n",
    "    f.write(res.text)"
   ]
  },
  {
   "cell_type": "code",
   "execution_count": null,
   "id": "nearby-alaska",
   "metadata": {},
   "outputs": [],
   "source": []
  }
 ],
 "metadata": {
  "kernelspec": {
   "display_name": "data-anal",
   "language": "python",
   "name": "data-anal"
  },
  "language_info": {
   "codemirror_mode": {
    "name": "ipython",
    "version": 3
   },
   "file_extension": ".py",
   "mimetype": "text/x-python",
   "name": "python",
   "nbconvert_exporter": "python",
   "pygments_lexer": "ipython3",
   "version": "3.8.5"
  }
 },
 "nbformat": 4,
 "nbformat_minor": 5
}
